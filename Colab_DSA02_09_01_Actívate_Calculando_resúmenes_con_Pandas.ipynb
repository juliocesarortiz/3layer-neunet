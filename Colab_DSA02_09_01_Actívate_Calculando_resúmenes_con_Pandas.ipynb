{
  "nbformat": 4,
  "nbformat_minor": 0,
  "metadata": {
    "colab": {
      "provenance": [],
      "include_colab_link": true
    },
    "kernelspec": {
      "display_name": "Python 3",
      "name": "python3"
    }
  },
  "cells": [
    {
      "cell_type": "markdown",
      "metadata": {
        "id": "view-in-github",
        "colab_type": "text"
      },
      "source": [
        "<a href=\"https://colab.research.google.com/github/juliocesarortiz/3layer-neunet/blob/master/Colab_DSA02_09_01_Act%C3%ADvate_Calculando_res%C3%BAmenes_con_Pandas.ipynb\" target=\"_parent\"><img src=\"https://colab.research.google.com/assets/colab-badge.svg\" alt=\"Open In Colab\"/></a>"
      ]
    },
    {
      "cell_type": "markdown",
      "metadata": {
        "id": "OJIeIgmnNdT4"
      },
      "source": [
        "# **Módulo 2. Plataformas de Aplicación sobre Python**\n",
        "---\n"
      ]
    },
    {
      "cell_type": "code",
      "metadata": {
        "id": "eOVDmi-44VMK"
      },
      "source": [
        "import pandas as pd\n"
      ],
      "execution_count": null,
      "outputs": []
    },
    {
      "cell_type": "code",
      "metadata": {
        "id": "-3yFOANnyLXC"
      },
      "source": [
        "from google.colab import drive\n",
        "drive.mount('/content/drive')"
      ],
      "execution_count": null,
      "outputs": []
    },
    {
      "cell_type": "markdown",
      "metadata": {
        "id": "X25brD-gQdZM"
      },
      "source": [
        "**TEMA 3. Calculando resúmenes con Pandas**"
      ]
    },
    {
      "cell_type": "markdown",
      "metadata": {
        "id": "XOmm3TZKyjR8"
      },
      "source": [
        "Utiliza el archivo starships.cvs para realizar lo siguiente"
      ]
    },
    {
      "cell_type": "markdown",
      "metadata": {
        "id": "HLQHEoR3QlzX"
      },
      "source": [
        "1. Obtenga el promedio de tripulación que tienen las naves"
      ]
    },
    {
      "cell_type": "code",
      "metadata": {
        "id": "GaRJlmByyY38"
      },
      "source": [],
      "execution_count": null,
      "outputs": []
    },
    {
      "cell_type": "markdown",
      "metadata": {
        "id": "cS0A57K0yaEQ"
      },
      "source": [
        "2. Obtenga el promedio de pasajeros que pueden trasladar las naves"
      ]
    },
    {
      "cell_type": "code",
      "metadata": {
        "id": "uk3bCaYdzDsf"
      },
      "source": [],
      "execution_count": null,
      "outputs": []
    },
    {
      "cell_type": "markdown",
      "metadata": {
        "id": "ot_iO5sozHWj"
      },
      "source": [
        "3. Obtener cuál es la nave más costosa y cuál es la más barata"
      ]
    },
    {
      "cell_type": "code",
      "metadata": {
        "id": "3cYNXyXRze1b"
      },
      "source": [],
      "execution_count": null,
      "outputs": []
    },
    {
      "cell_type": "markdown",
      "metadata": {
        "id": "0GBmvK1Mzf6t"
      },
      "source": [
        "4. El costo promedio por tipo de nave (starship_class)"
      ]
    },
    {
      "cell_type": "code",
      "metadata": {
        "id": "yjDWTNRZz1dV"
      },
      "source": [],
      "execution_count": null,
      "outputs": []
    },
    {
      "cell_type": "markdown",
      "metadata": {
        "id": "KFLLpkU6z2T4"
      },
      "source": [
        "5. La longitud promedio por tipo de nave"
      ]
    },
    {
      "cell_type": "code",
      "metadata": {
        "id": "X4sYIaN90No4"
      },
      "source": [],
      "execution_count": null,
      "outputs": []
    },
    {
      "cell_type": "markdown",
      "metadata": {
        "id": "paGMmF9x0Gh-"
      },
      "source": [
        "6. El costo promedio por fabricante"
      ]
    },
    {
      "cell_type": "code",
      "metadata": {
        "id": "Tt4wjP-E0V3M"
      },
      "source": [],
      "execution_count": null,
      "outputs": []
    }
  ]
}